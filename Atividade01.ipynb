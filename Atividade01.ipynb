{
  "nbformat": 4,
  "nbformat_minor": 0,
  "metadata": {
    "colab": {
      "provenance": [],
      "authorship_tag": "ABX9TyPTYQMNEb0CtdujAzsqhuvX",
      "include_colab_link": true
    },
    "kernelspec": {
      "name": "python3",
      "display_name": "Python 3"
    },
    "language_info": {
      "name": "python"
    }
  },
  "cells": [
    {
      "cell_type": "markdown",
      "metadata": {
        "id": "view-in-github",
        "colab_type": "text"
      },
      "source": [
        "<a href=\"https://colab.research.google.com/github/Ricardo-1970/Acessando_Registro_arquivo/blob/main/Atividade01.ipynb\" target=\"_parent\"><img src=\"https://colab.research.google.com/assets/colab-badge.svg\" alt=\"Open In Colab\"/></a>"
      ]
    },
    {
      "cell_type": "code",
      "execution_count": null,
      "metadata": {
        "id": "YdCzCLqnxknn"
      },
      "outputs": [],
      "source": []
    },
    {
      "cell_type": "markdown",
      "source": [
        "## Programa 1"
      ],
      "metadata": {
        "id": "VCbAL5EIyPpp"
      }
    },
    {
      "cell_type": "code",
      "source": [
        "import time\n",
        "\n",
        "def openLog (nomearq, modo = 'r'):\n",
        "  arqEntrada = open(nomearq,modo)\n",
        "\n",
        "  now = time.localtime()\n",
        "  nowFormat = time.strftime('%A %b/%d/%y %I:%M %p',now)\n",
        "\n",
        "\n",
        "  arqSaida = open('log.txt','a')\n",
        "  log = '{}: Arquivo {} aberto.\\n'\n",
        "  arqSaida.write(log.format(nowFormat,nomearq))\n",
        "  arqSaida.close()\n",
        "\n",
        "  print('Registro realizado')\n",
        "\n",
        "  return arqEntrada"
      ],
      "metadata": {
        "id": "Rq93qqjhyf74"
      },
      "execution_count": null,
      "outputs": []
    }
  ]
}