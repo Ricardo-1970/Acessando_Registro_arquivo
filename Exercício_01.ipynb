{
  "nbformat": 4,
  "nbformat_minor": 0,
  "metadata": {
    "colab": {
      "provenance": [],
      "mount_file_id": "1A_zf6Fa-Ylu3ChkOfQPvm4Lm1HdrwtL2",
      "authorship_tag": "ABX9TyPTCo9zp5PsispGJDjqkkuD",
      "include_colab_link": true
    },
    "kernelspec": {
      "name": "python3",
      "display_name": "Python 3"
    },
    "language_info": {
      "name": "python"
    }
  },
  "cells": [
    {
      "cell_type": "markdown",
      "metadata": {
        "id": "view-in-github",
        "colab_type": "text"
      },
      "source": [
        "<a href=\"https://colab.research.google.com/github/Ricardo-1970/Acessando_Registro_arquivo/blob/main/Exerc%C3%ADcio_01.ipynb\" target=\"_parent\"><img src=\"https://colab.research.google.com/assets/colab-badge.svg\" alt=\"Open In Colab\"/></a>"
      ]
    },
    {
      "cell_type": "markdown",
      "source": [
        "## Programa 1"
      ],
      "metadata": {
        "id": "VCbAL5EIyPpp"
      }
    },
    {
      "cell_type": "code",
      "source": [
        "from google.colab import drive\n",
        "drive.mount('/content/drive')"
      ],
      "metadata": {
        "id": "I_a491L19TBD"
      },
      "execution_count": null,
      "outputs": []
    },
    {
      "cell_type": "code",
      "source": [
        "import time\n",
        "\n",
        "def openLog (nomearq, modo = 'r'):\n",
        "  arqEntrada = open(nomearq,modo)\n",
        "\n",
        "  now = time.localtime()\n",
        "  nowFormat = time.strftime('%A %b/%d/%y %I:%M %p',now)\n",
        "\n",
        "\n",
        "  arqSaida = open('log.txt','a')\n",
        "  log = '{}: Arquivo {} aberto.\\n'\n",
        "  arqSaida.write(log.format(nowFormat,nomearq))\n",
        "  arqSaida.close()\n",
        "\n",
        "  print('Registro realizado')\n",
        "\n",
        "  return arqEntrada"
      ],
      "metadata": {
        "id": "Rq93qqjhyf74"
      },
      "execution_count": 10,
      "outputs": []
    },
    {
      "cell_type": "code",
      "source": [
        "openLog('/content/drive/MyDrive/Teste.txt')#localização correta do arquivo"
      ],
      "metadata": {
        "id": "_tuVzMKvIl_q",
        "colab": {
          "base_uri": "https://localhost:8080/"
        },
        "outputId": "78e73a78-db00-4fce-9be6-4f232ab4bcc3"
      },
      "execution_count": 11,
      "outputs": [
        {
          "output_type": "stream",
          "name": "stdout",
          "text": [
            "Registro realizado\n"
          ]
        },
        {
          "output_type": "execute_result",
          "data": {
            "text/plain": [
              "<_io.TextIOWrapper name='/content/drive/MyDrive/Teste.txt' mode='r' encoding='utf-8'>"
            ]
          },
          "metadata": {},
          "execution_count": 11
        }
      ]
    },
    {
      "cell_type": "markdown",
      "source": [],
      "metadata": {
        "id": "vovzs2Hf4953"
      }
    }
  ]
}